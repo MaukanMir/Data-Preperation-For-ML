{
 "cells": [
  {
   "cell_type": "markdown",
   "metadata": {},
   "source": [
    "# Feature Selection"
   ]
  },
  {
   "cell_type": "markdown",
   "metadata": {},
   "source": [
    "## Numerical Input, Numerical Output"
   ]
  },
  {
   "cell_type": "markdown",
   "metadata": {},
   "source": [
    "* Pearson’s correlation coefficient (linear).\n",
    "* Spearman’s rank coefficient (nonlinear).\n",
    "* Mutual Information.\n"
   ]
  },
  {
   "cell_type": "markdown",
   "metadata": {},
   "source": [
    "## Numerical Input, Categorical Output"
   ]
  },
  {
   "cell_type": "markdown",
   "metadata": {},
   "source": [
    "* ANOVA correlation coefficient (linear).\n",
    "*  Kendall’s rank coefficient (nonlinear).\n",
    "*  Mutual Information.\n",
    "*  Kendall does assume that the categorical variable is ordinal."
   ]
  },
  {
   "cell_type": "markdown",
   "metadata": {},
   "source": [
    "## Categorical Input, Categorical Output"
   ]
  },
  {
   "cell_type": "markdown",
   "metadata": {},
   "source": [
    "* Chi-Squared test (contingency tables).\n",
    "* Mutual Information."
   ]
  },
  {
   "cell_type": "markdown",
   "metadata": {},
   "source": [
    "## Q. How Do You Filter Input Variables?"
   ]
  },
  {
   "cell_type": "markdown",
   "metadata": {},
   "source": [
    "#### There are two main techniques for filtering input variables. The first is to rank all input variables by their score and select the k-top input variables with the largest score. The second approach is to convert the scores into a percentage of the largest score and select all features above a minimum percentile. Both of these approaches are available in the scikit-learn library:\n",
    "* Select the top k variables: SelectKBest.\n",
    "* Select the top percentile variables: SelectPercentile."
   ]
  },
  {
   "cell_type": "markdown",
   "metadata": {},
   "source": [
    "## How to Select Categorical Input Features"
   ]
  },
  {
   "cell_type": "code",
   "execution_count": 1,
   "metadata": {},
   "outputs": [
    {
     "name": "stdout",
     "output_type": "stream",
     "text": [
      "Train (191, 9) (191,)\n",
      "Test (95, 9) (95,)\n"
     ]
    }
   ],
   "source": [
    "# load and summarize the dataset\n",
    "from pandas import read_csv\n",
    "from sklearn.model_selection import train_test_split\n",
    "# load the dataset\n",
    "def load_dataset(filename):\n",
    "  # load the dataset\n",
    "  data = read_csv(filename, header=None)\n",
    "  # retrieve array\n",
    "  dataset = data.values\n",
    "  # split into input and output variables\n",
    "  X = dataset[:, :-1]\n",
    "  y = dataset[:,-1]\n",
    "  # format all fields as string\n",
    "  X = X.astype(str)\n",
    "  return X, y\n",
    "# load the dataset\n",
    "X, y = load_dataset('data/breast-cancer.csv')\n",
    "# split into train and test sets\n",
    "X_train, X_test, y_train, y_test = train_test_split(X, y, test_size=0.33, random_state=1) # summarize\n",
    "print('Train', X_train.shape, y_train.shape)\n",
    "print('Test', X_test.shape, y_test.shape)"
   ]
  },
  {
   "cell_type": "code",
   "execution_count": 2,
   "metadata": {},
   "outputs": [
    {
     "name": "stdout",
     "output_type": "stream",
     "text": [
      "Train (191, 9) (191,)\n",
      "Test (95, 9) (95,)\n"
     ]
    }
   ],
   "source": [
    "\n",
    "# example of loading and preparing the breast cancer dataset\n",
    "from pandas import read_csv\n",
    "from sklearn.model_selection import train_test_split\n",
    "from sklearn.preprocessing import LabelEncoder\n",
    "from sklearn.preprocessing import OrdinalEncoder\n",
    "# load the dataset\n",
    "def load_dataset(filename):\n",
    "  # load the dataset\n",
    "  data = read_csv(filename, header=None)\n",
    "  # retrieve array\n",
    "  dataset = data.values\n",
    "  # split into input and output variables\n",
    "  X = dataset[:, :-1]\n",
    "  y = dataset[:,-1]\n",
    "  # format all fields as string\n",
    "  X = X.astype(str)\n",
    "  return X, y\n",
    "# prepare input data\n",
    "def prepare_inputs(X_train, X_test):\n",
    "  oe = OrdinalEncoder()\n",
    "  oe.fit(X_train)\n",
    "  X_train_enc = oe.transform(X_train)\n",
    "  X_test_enc = oe.transform(X_test)\n",
    "  return X_train_enc, X_test_enc\n",
    "# prepare target\n",
    "def prepare_targets(y_train, y_test):\n",
    "  le = LabelEncoder()\n",
    "  le.fit(y_train)\n",
    "  y_train_enc = le.transform(y_train)\n",
    "  y_test_enc = le.transform(y_test)\n",
    "  return y_train_enc, y_test_enc\n",
    "# load the dataset\n",
    "X, y = load_dataset('data/breast-cancer.csv')\n",
    "# split into train and test sets\n",
    "X_train, X_test, y_train, y_test = train_test_split(X, y, test_size=0.33, random_state=1) # prepare input data\n",
    "X_train_enc, X_test_enc = prepare_inputs(X_train, X_test)\n",
    "# prepare output data\n",
    "y_train_enc, y_test_enc = prepare_targets(y_train, y_test)\n",
    "# summarize\n",
    "print('Train', X_train_enc.shape, y_train_enc.shape)\n",
    "print('Test', X_test_enc.shape, y_test_enc.shape)"
   ]
  },
  {
   "cell_type": "markdown",
   "metadata": {},
   "source": [
    "## Chi-Squared Feature Selection"
   ]
  },
  {
   "cell_type": "markdown",
   "metadata": {},
   "source": [
    "#### Pearson’s chi-squared (Greek letter squared, e.g. χ2, pronounced kai) statistical hypothesis test is an example of a test for independence between categorical variables. The results of this test can be used for feature selection, where those features that are independent of the target variable can be removed from the dataset."
   ]
  },
  {
   "cell_type": "code",
   "execution_count": 4,
   "metadata": {},
   "outputs": [
    {
     "name": "stdout",
     "output_type": "stream",
     "text": [
      "Feature 0: 0.157945\n",
      "Feature 1: 0.029193\n",
      "Feature 2: 2.137658\n",
      "Feature 3: 29.381059\n",
      "Feature 4: 8.222601\n",
      "Feature 5: 8.100183\n",
      "Feature 6: 1.273822\n",
      "Feature 7: 0.950682\n",
      "Feature 8: 3.699989\n"
     ]
    },
    {
     "data": {
      "image/png": "[encoded data removed]",
      "text/plain": [
       "<Figure size 640x480 with 1 Axes>"
      ]
     },
     "metadata": {},
     "output_type": "display_data"
    }
   ],
   "source": [
    "\n",
    "# example of chi squared feature selection for categorical data\n",
    "from pandas import read_csv\n",
    "from sklearn.model_selection import train_test_split\n",
    "from sklearn.preprocessing import LabelEncoder\n",
    "from sklearn.preprocessing import OrdinalEncoder\n",
    "from sklearn.feature_selection import SelectKBest\n",
    "from sklearn.feature_selection import chi2\n",
    "from matplotlib import pyplot\n",
    "# load the dataset\n",
    "def load_dataset(filename):\n",
    "  # load the dataset as a pandas DataFrame\n",
    "  data = read_csv(filename, header=None)\n",
    "  # retrieve numpy array\n",
    "  dataset = data.values\n",
    "  # split into input (X) and output (y) variables\n",
    "  X = dataset[:, :-1]\n",
    "  y = dataset[:,-1]\n",
    "  # format all fields as string\n",
    "  X = X.astype(str)\n",
    "  return X, y\n",
    "# prepare input data\n",
    "def prepare_inputs(X_train, X_test):\n",
    "  oe = OrdinalEncoder()\n",
    "  oe.fit(X_train)\n",
    "  X_train_enc = oe.transform(X_train)\n",
    "  X_test_enc = oe.transform(X_test)\n",
    "  return X_train_enc, X_test_enc\n",
    "# prepare target\n",
    "def prepare_targets(y_train, y_test):\n",
    "  le = LabelEncoder()\n",
    "  le.fit(y_train)\n",
    "  y_train_enc = le.transform(y_train)\n",
    "  y_test_enc = le.transform(y_test)\n",
    "  return y_train_enc, y_test_enc\n",
    "# feature selection\n",
    "def select_features(X_train, y_train, X_test): \n",
    "  fs = SelectKBest(score_func=chi2, k='all') \n",
    "  fs.fit(X_train, y_train)\n",
    "  X_train_fs = fs.transform(X_train)\n",
    "  X_test_fs = fs.transform(X_test)\n",
    "  return X_train_fs, X_test_fs, fs\n",
    "\n",
    "\n",
    "# load the dataset\n",
    "X, y = load_dataset('data/breast-cancer.csv')\n",
    "# split into train and test sets\n",
    "X_train, X_test, y_train, y_test = train_test_split(X, y, test_size=0.33, random_state=1) # prepare input data\n",
    "X_train_enc, X_test_enc = prepare_inputs(X_train, X_test)\n",
    "# prepare output data\n",
    "y_train_enc, y_test_enc = prepare_targets(y_train, y_test)\n",
    "# feature selection\n",
    "X_train_fs, X_test_fs, fs = select_features(X_train_enc, y_train_enc, X_test_enc)\n",
    "# what are scores for the features\n",
    "for i in range(len(fs.scores_)):\n",
    "  print('Feature %d: %f' % (i, fs.scores_[i]))\n",
    "# plot the scores\n",
    "pyplot.bar([i for i in range(len(fs.scores_))], fs.scores_) \n",
    "pyplot.show()"
   ]
  },
  {
   "cell_type": "markdown",
   "metadata": {},
   "source": [
    "## Mutual Information Feature Selection"
   ]
  },
  {
   "cell_type": "markdown",
   "metadata": {},
   "source": [
    "#### Mutual information from the field of information theory is the application of information gain (typically used in the construction of decision trees) to feature selection. Mutual information is calculated between two variables and measures the reduction in uncertainty for one variable given a known value of the other variable."
   ]
  },
  {
   "cell_type": "code",
   "execution_count": 5,
   "metadata": {},
   "outputs": [
    {
     "name": "stdout",
     "output_type": "stream",
     "text": [
      "Feature 0: 0.012596\n",
      "Feature 1: 0.000000\n",
      "Feature 2: 0.039416\n",
      "Feature 3: 0.000000\n",
      "Feature 4: 0.046239\n",
      "Feature 5: 0.066635\n",
      "Feature 6: 0.003943\n",
      "Feature 7: 0.019415\n",
      "Feature 8: 0.008398\n"
     ]
    },
    {
     "data": {
      "image/png": "[encoded data removed]",
      "text/plain": [
       "<Figure size 640x480 with 1 Axes>"
      ]
     },
     "metadata": {},
     "output_type": "display_data"
    }
   ],
   "source": [
    "# example of mutual information feature selection for categorical data\n",
    "from pandas import read_csv\n",
    "from sklearn.model_selection import train_test_split\n",
    "from sklearn.preprocessing import LabelEncoder\n",
    "from sklearn.preprocessing import OrdinalEncoder\n",
    "from sklearn.feature_selection import SelectKBest\n",
    "from sklearn.feature_selection import mutual_info_classif\n",
    "from matplotlib import pyplot\n",
    "# load the dataset\n",
    "def load_dataset(filename):\n",
    "  # load the dataset as a pandas DataFrame\n",
    "  data = read_csv(filename, header=None)\n",
    "  # retrieve numpy array\n",
    "  dataset = data.values\n",
    "  # split into input (X) and output (y) variables\n",
    "  X = dataset[:, :-1]\n",
    "  y = dataset[:,-1]\n",
    "  # format all fields as string\n",
    "  X = X.astype(str)\n",
    "  return X, y\n",
    "# prepare input data\n",
    "def prepare_inputs(X_train, X_test):\n",
    "  oe = OrdinalEncoder()\n",
    "  oe.fit(X_train)\n",
    "  X_train_enc = oe.transform(X_train)\n",
    "  X_test_enc = oe.transform(X_test)\n",
    "  return X_train_enc, X_test_enc\n",
    "# prepare target\n",
    "def prepare_targets(y_train, y_test):\n",
    "  le = LabelEncoder()\n",
    "  le.fit(y_train)\n",
    "  y_train_enc = le.transform(y_train)\n",
    "  y_test_enc = le.transform(y_test)\n",
    "  return y_train_enc, y_test_enc\n",
    "# feature selection\n",
    "def select_features(X_train, y_train, X_test):\n",
    "  fs = SelectKBest(score_func=mutual_info_classif, k='all') \n",
    "  fs.fit(X_train, y_train)\n",
    "  X_train_fs = fs.transform(X_train)\n",
    "  X_test_fs = fs.transform(X_test)\n",
    "  return X_train_fs, X_test_fs, fs\n",
    "# load the dataset\n",
    "X, y = load_dataset('data/breast-cancer.csv')\n",
    "# split into train and test sets\n",
    "X_train, X_test, y_train, y_test = train_test_split(X, y, test_size=0.33, random_state=1) # prepare input data\n",
    "X_train_enc, X_test_enc = prepare_inputs(X_train, X_test)\n",
    "# prepare output data\n",
    "y_train_enc, y_test_enc = prepare_targets(y_train, y_test)\n",
    "# feature selection\n",
    "X_train_fs, X_test_fs, fs = select_features(X_train_enc, y_train_enc, X_test_enc)\n",
    "# what are scores for the features\n",
    "for i in range(len(fs.scores_)): print('Feature %d: %f' % (i, fs.scores_[i]))\n",
    "# plot the scores\n",
    "pyplot.bar([i for i in range(len(fs.scores_))], fs.scores_)\n",
    "pyplot.show()"
   ]
  },
  {
   "cell_type": "markdown",
   "metadata": {},
   "source": [
    "## Modeling With Selected Features"
   ]
  },
  {
   "cell_type": "code",
   "execution_count": 6,
   "metadata": {},
   "outputs": [
    {
     "name": "stdout",
     "output_type": "stream",
     "text": [
      "Accuracy: 74.74\n"
     ]
    }
   ],
   "source": [
    "# evaluation of a model using all input features\n",
    "from pandas import read_csv\n",
    "from sklearn.preprocessing import LabelEncoder\n",
    "from sklearn.preprocessing import OrdinalEncoder\n",
    "from sklearn.model_selection import train_test_split\n",
    "from sklearn.linear_model import LogisticRegression\n",
    "from sklearn.metrics import accuracy_score\n",
    "# load the dataset\n",
    "def load_dataset(filename):\n",
    "  # load the dataset as a pandas DataFrame\n",
    "  data = read_csv(filename, header=None)\n",
    "  # retrieve numpy array\n",
    "  dataset = data.values\n",
    "  # split into input (X) and output (y) variables\n",
    "  X = dataset[:, :-1]\n",
    "  y = dataset[:,-1]\n",
    "  # format all fields as string\n",
    "  X = X.astype(str)\n",
    "  return X, y\n",
    "# prepare input data\n",
    "def prepare_inputs(X_train, X_test):\n",
    "  oe = OrdinalEncoder()\n",
    "  oe.fit(X_train)\n",
    "  X_train_enc = oe.transform(X_train)\n",
    "  X_test_enc = oe.transform(X_test)\n",
    "  return X_train_enc, X_test_enc\n",
    "# prepare target\n",
    "def prepare_targets(y_train, y_test):\n",
    "  le = LabelEncoder()\n",
    "  le.fit(y_train)\n",
    "  y_train_enc = le.transform(y_train)\n",
    "  y_test_enc = le.transform(y_test)\n",
    "  return y_train_enc, y_test_enc\n",
    "# load the dataset\n",
    "X, y = load_dataset('data/breast-cancer.csv')\n",
    "# split into train and test sets\n",
    "X_train, X_test, y_train, y_test = train_test_split(X, y, test_size=0.33, random_state=1) # prepare input data\n",
    "X_train_enc, X_test_enc = prepare_inputs(X_train, X_test)\n",
    "# prepare output data\n",
    "y_train_enc, y_test_enc = prepare_targets(y_train, y_test)\n",
    "# fit the model\n",
    "model = LogisticRegression(solver='lbfgs')\n",
    "model.fit(X_train_enc, y_train_enc)\n",
    "# evaluate the model\n",
    "yhat = model.predict(X_test_enc)\n",
    "# evaluate predictions\n",
    "accuracy = accuracy_score(y_test_enc, yhat)\n",
    "print('Accuracy: %.2f' % (accuracy*100))"
   ]
  },
  {
   "cell_type": "code",
   "execution_count": 7,
   "metadata": {},
   "outputs": [
    {
     "name": "stdout",
     "output_type": "stream",
     "text": [
      "Accuracy: 74.74\n"
     ]
    }
   ],
   "source": [
    "\n",
    "# evaluation of a model fit using chi squared input features\n",
    "from pandas import read_csv\n",
    "from sklearn.preprocessing import LabelEncoder\n",
    "from sklearn.preprocessing import OrdinalEncoder\n",
    "from sklearn.feature_selection import SelectKBest\n",
    "from sklearn.feature_selection import chi2\n",
    "from sklearn.model_selection import train_test_split\n",
    "from sklearn.linear_model import LogisticRegression\n",
    "from sklearn.metrics import accuracy_score\n",
    "# load the dataset\n",
    "def load_dataset(filename):\n",
    "  # load the dataset as a pandas DataFrame\n",
    "  data = read_csv(filename, header=None)\n",
    "  # retrieve numpy array\n",
    "  dataset = data.values\n",
    "  # split into input (X) and output (y) variables\n",
    "  X = dataset[:, :-1]\n",
    "  y = dataset[:,-1]\n",
    "  # format all fields as string\n",
    "  X = X.astype(str)\n",
    "  return X, y\n",
    "\n",
    "# prepare input data\n",
    "def prepare_inputs(X_train, X_test):\n",
    "  oe = OrdinalEncoder()\n",
    "  oe.fit(X_train)\n",
    "  X_train_enc = oe.transform(X_train)\n",
    "  X_test_enc = oe.transform(X_test)\n",
    "  return X_train_enc, X_test_enc\n",
    "# prepare target\n",
    "def prepare_targets(y_train, y_test):\n",
    "  le = LabelEncoder()\n",
    "  le.fit(y_train)\n",
    "  y_train_enc = le.transform(y_train)\n",
    "  y_test_enc = le.transform(y_test)\n",
    "  return y_train_enc, y_test_enc\n",
    "# feature selection\n",
    "def select_features(X_train, y_train, X_test):\n",
    "  fs = SelectKBest(score_func=chi2, k=4)\n",
    "  fs.fit(X_train, y_train)\n",
    "  X_train_fs = fs.transform(X_train)\n",
    "  X_test_fs = fs.transform(X_test)\n",
    "  return X_train_fs, X_test_fs\n",
    "# load the dataset\n",
    "X, y = load_dataset('data/breast-cancer.csv')\n",
    "# split into train and test sets\n",
    "X_train, X_test, y_train, y_test = train_test_split(X, y, test_size=0.33, random_state=1) # prepare input data\n",
    "X_train_enc, X_test_enc = prepare_inputs(X_train, X_test)\n",
    "# prepare output data\n",
    "y_train_enc, y_test_enc = prepare_targets(y_train, y_test)\n",
    "# feature selection\n",
    "X_train_fs, X_test_fs = select_features(X_train_enc, y_train_enc, X_test_enc)\n",
    "# fit the model\n",
    "model = LogisticRegression(solver='lbfgs')\n",
    "model.fit(X_train_fs, y_train_enc)\n",
    "# evaluate the model\n",
    "yhat = model.predict(X_test_fs)\n",
    "# evaluate predictions\n",
    "accuracy = accuracy_score(y_test_enc, yhat)\n",
    "print('Accuracy: %.2f' % (accuracy*100))"
   ]
  },
  {
   "cell_type": "code",
   "execution_count": 9,
   "metadata": {},
   "outputs": [
    {
     "name": "stdout",
     "output_type": "stream",
     "text": [
      "Accuracy: 76.84\n"
     ]
    }
   ],
   "source": [
    "# evaluation of a model fit using mutual information input features\n",
    "from pandas import read_csv\n",
    "from sklearn.preprocessing import LabelEncoder\n",
    "from sklearn.preprocessing import OrdinalEncoder\n",
    "from sklearn.feature_selection import SelectKBest\n",
    "from sklearn.feature_selection import mutual_info_classif\n",
    "from sklearn.model_selection import train_test_split\n",
    "from sklearn.linear_model import LogisticRegression\n",
    "from sklearn.metrics import accuracy_score\n",
    "# load the dataset\n",
    "def load_dataset(filename):\n",
    "  # load the dataset as a pandas DataFrame\n",
    "  data = read_csv(filename, header=None)\n",
    "  # retrieve numpy array\n",
    "  dataset = data.values\n",
    "  # split into input (X) and output (y) variables\n",
    "  X = dataset[:, :-1]\n",
    "  y = dataset[:,-1]\n",
    "  # format all fields as string\n",
    "  X = X.astype(str)\n",
    "  return X, y\n",
    "# prepare input data\n",
    "def prepare_inputs(X_train, X_test):\n",
    "  oe = OrdinalEncoder()\n",
    "  oe.fit(X_train)\n",
    "  X_train_enc = oe.transform(X_train)\n",
    "  X_test_enc = oe.transform(X_test)\n",
    "  return X_train_enc, X_test_enc\n",
    "\n",
    "# prepare target\n",
    "def prepare_targets(y_train, y_test):\n",
    "  le = LabelEncoder()\n",
    "  le.fit(y_train)\n",
    "  y_train_enc = le.transform(y_train)\n",
    "  y_test_enc = le.transform(y_test)\n",
    "  return y_train_enc, y_test_enc\n",
    "# feature selection\n",
    "def select_features(X_train, y_train, X_test):\n",
    "  fs = SelectKBest(score_func=mutual_info_classif, k=4)\n",
    "  fs.fit(X_train, y_train)\n",
    "  X_train_fs = fs.transform(X_train)\n",
    "  X_test_fs = fs.transform(X_test)\n",
    "  return X_train_fs, X_test_fs\n",
    "# load the dataset\n",
    "X, y = load_dataset('data/breast-cancer.csv')\n",
    "# split into train and test sets\n",
    "X_train, X_test, y_train, y_test = train_test_split(X, y, test_size=0.33, random_state=1) # prepare input data\n",
    "X_train_enc, X_test_enc = prepare_inputs(X_train, X_test)\n",
    "# prepare output data\n",
    "y_train_enc, y_test_enc = prepare_targets(y_train, y_test)\n",
    "# feature selection\n",
    "X_train_fs, X_test_fs = select_features(X_train_enc, y_train_enc, X_test_enc)\n",
    "# fit the model\n",
    "model = LogisticRegression(solver='lbfgs')\n",
    "model.fit(X_train_fs, y_train_enc)\n",
    "# evaluate the model\n",
    "yhat = model.predict(X_test_fs)\n",
    "# evaluate predictions\n",
    "accuracy = accuracy_score(y_test_enc, yhat)\n",
    "print('Accuracy: %.2f' % (accuracy*100))"
   ]
  },
  {
   "cell_type": "markdown",
   "metadata": {},
   "source": [
    "## How to Select Numerical Input Features"
   ]
  },
  {
   "cell_type": "markdown",
   "metadata": {},
   "source": [
    "* ANOVA F-Statistic.\n",
    "* Mutual Information Statistics.\n"
   ]
  },
  {
   "cell_type": "markdown",
   "metadata": {},
   "source": [
    "## ANOVA F-test Feature Selection"
   ]
  },
  {
   "cell_type": "markdown",
   "metadata": {},
   "source": [
    "#### ANOVA is an acronym for analysis of variance and is a parametric statistical hypothesis test for determining whether the means from two or more samples of data (often three or more) come from the same distribution or not. An F-statistic, or F-test, is a class of statistical tests that calculate the ratio between variances values, such as the variance from two different samples or the explained and unexplained variance by a statistical test, like ANOVA. The ANOVA method is a type of F-statistic referred to here as an ANOVA F-test."
   ]
  },
  {
   "cell_type": "code",
   "execution_count": 10,
   "metadata": {},
   "outputs": [
    {
     "name": "stdout",
     "output_type": "stream",
     "text": [
      "Feature 0: 16.527385\n",
      "Feature 1: 131.325562\n",
      "Feature 2: 0.042371\n",
      "Feature 3: 1.415216\n",
      "Feature 4: 12.778966\n",
      "Feature 5: 49.209523\n",
      "Feature 6: 13.377142\n",
      "Feature 7: 25.126440\n"
     ]
    },
    {
     "data": {
      "image/png": "[encoded data removed]",
      "text/plain": [
       "<Figure size 640x480 with 1 Axes>"
      ]
     },
     "metadata": {},
     "output_type": "display_data"
    }
   ],
   "source": [
    "# example of anova f-test feature selection for numerical data\n",
    "from pandas import read_csv\n",
    "from sklearn.model_selection import train_test_split\n",
    "from sklearn.feature_selection import SelectKBest\n",
    "from sklearn.feature_selection import f_classif\n",
    "from matplotlib import pyplot\n",
    "# load the dataset\n",
    "def load_dataset(filename):\n",
    "  # load the dataset as a pandas DataFrame\n",
    "  data = read_csv(filename, header=None)\n",
    "  # retrieve numpy array\n",
    "  dataset = data.values\n",
    "  # split into input (X) and output (y) variables\n",
    "  X = dataset[:, :-1]\n",
    "  y = dataset[:,-1]\n",
    "  return X, y\n",
    "\n",
    "# feature selection\n",
    "def select_features(X_train, y_train, X_test):\n",
    "  # configure to select all features\n",
    "  fs = SelectKBest(score_func=f_classif, k='all') # learn relationship from training data \n",
    "  fs.fit(X_train, y_train)\n",
    "  # transform train input data\n",
    "  X_train_fs = fs.transform(X_train)\n",
    "  # transform test input data\n",
    "  X_test_fs = fs.transform(X_test)\n",
    "  return X_train_fs, X_test_fs, fs\n",
    "# load the dataset\n",
    "X, y = load_dataset('data/diabetes.csv')\n",
    "# split into train and test sets\n",
    "X_train, X_test, y_train, y_test = train_test_split(X, y, test_size=0.33, random_state=1) # feature selection\n",
    "X_train_fs, X_test_fs, fs = select_features(X_train, y_train, X_test)\n",
    "# what are scores for the features\n",
    "for i in range(len(fs.scores_)):\n",
    "  print('Feature %d: %f' % (i, fs.scores_[i]))\n",
    "# plot the scores\n",
    "pyplot.bar([i for i in range(len(fs.scores_))], fs.scores_) \n",
    "pyplot.show()"
   ]
  },
  {
   "cell_type": "markdown",
   "metadata": {},
   "source": [
    "## Mutual Information Feature Selection"
   ]
  },
  {
   "cell_type": "code",
   "execution_count": 12,
   "metadata": {},
   "outputs": [
    {
     "name": "stdout",
     "output_type": "stream",
     "text": [
      "Feature 0: 0.000000\n",
      "Feature 1: 0.106246\n",
      "Feature 2: 0.017280\n",
      "Feature 3: 0.010366\n",
      "Feature 4: 0.028148\n",
      "Feature 5: 0.086366\n",
      "Feature 6: 0.012631\n",
      "Feature 7: 0.055693\n"
     ]
    },
    {
     "data": {
      "image/png": "[encoded data removed]",
      "text/plain": [
       "<Figure size 640x480 with 1 Axes>"
      ]
     },
     "metadata": {},
     "output_type": "display_data"
    }
   ],
   "source": [
    "# example of mutual information feature selection for numerical input data\n",
    "from pandas import read_csv\n",
    "from sklearn.model_selection import train_test_split\n",
    "from sklearn.feature_selection import SelectKBest\n",
    "from sklearn.feature_selection import mutual_info_classif\n",
    "from matplotlib import pyplot\n",
    "# load the dataset\n",
    "def load_dataset(filename):\n",
    "  # load the dataset as a pandas DataFrame\n",
    "  data = read_csv(filename, header=None)\n",
    "  # retrieve numpy array\n",
    "  dataset = data.values\n",
    "  # split into input (X) and output (y) variables\n",
    "  X = dataset[:, :-1]\n",
    "  y = dataset[:,-1]\n",
    "  return X, y\n",
    "# feature selection\n",
    "def select_features(X_train, y_train, X_test):\n",
    "# configure to select all features\n",
    "  fs = SelectKBest(score_func=mutual_info_classif, k='all') # learn relationship from training data\n",
    "  fs.fit(X_train, y_train)\n",
    "  # transform train input data\n",
    "  X_train_fs = fs.transform(X_train)\n",
    "  # transform test input data\n",
    "  X_test_fs = fs.transform(X_test)\n",
    "  return X_train_fs, X_test_fs, fs\n",
    "# load the dataset\n",
    "X, y = load_dataset('data/diabetes.csv')\n",
    "# split into train and test sets\n",
    "X_train, X_test, y_train, y_test = train_test_split(X, y, test_size=0.33, random_state=1) # feature selection\n",
    "X_train_fs, X_test_fs, fs = select_features(X_train, y_train, X_test)\n",
    "# what are scores for the features\n",
    "for i in range(len(fs.scores_)):\n",
    "  print('Feature %d: %f' % (i, fs.scores_[i]))\n",
    "# plot the scores\n",
    "pyplot.bar([i for i in range(len(fs.scores_))], fs.scores_) \n",
    "pyplot.show()"
   ]
  }
 ],
 "metadata": {
  "kernelspec": {
   "display_name": "machine-learning-env",
   "language": "python",
   "name": "python3"
  },
  "language_info": {
   "codemirror_mode": {
    "name": "ipython",
    "version": 3
   },
   "file_extension": ".py",
   "mimetype": "text/x-python",
   "name": "python",
   "nbconvert_exporter": "python",
   "pygments_lexer": "ipython3",
   "version": "3.8.15"
  }
 },
 "nbformat": 4,
 "nbformat_minor": 2
}
